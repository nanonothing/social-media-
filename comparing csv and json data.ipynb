{
 "cells": [
  {
   "cell_type": "code",
   "execution_count": 2,
   "metadata": {},
   "outputs": [],
   "source": [
    "#new json data\n",
    "import codecs, json\n",
    "import pandas as pd\n",
    "\n",
    "with codecs.open('/Users/shaomanlee/Documents/twitterscraper-master/data/scotus/scotus_tweets_2014-11-14.json', 'r', 'utf-8') as f:\n",
    "    tweets = json.load(f, encoding='utf-8')\n",
    "\n",
    "list_tweets = [list(elem.values()) for elem in tweets]\n",
    "list_columns = list(tweets[0].keys())\n",
    "df = pd.DataFrame(list_tweets, columns=list_columns)"
   ]
  },
  {
   "cell_type": "code",
   "execution_count": 7,
   "metadata": {},
   "outputs": [
    {
     "data": {
      "text/plain": [
       "(9596, 10)"
      ]
     },
     "execution_count": 7,
     "metadata": {},
     "output_type": "execute_result"
    }
   ],
   "source": [
    "df.shape"
   ]
  },
  {
   "cell_type": "code",
   "execution_count": 5,
   "metadata": {},
   "outputs": [
    {
     "data": {
      "text/html": [
       "<div>\n",
       "<style scoped>\n",
       "    .dataframe tbody tr th:only-of-type {\n",
       "        vertical-align: middle;\n",
       "    }\n",
       "\n",
       "    .dataframe tbody tr th {\n",
       "        vertical-align: top;\n",
       "    }\n",
       "\n",
       "    .dataframe thead th {\n",
       "        text-align: right;\n",
       "    }\n",
       "</style>\n",
       "<table border=\"1\" class=\"dataframe\">\n",
       "  <thead>\n",
       "    <tr style=\"text-align: right;\">\n",
       "      <th></th>\n",
       "      <th>fullname</th>\n",
       "      <th>html</th>\n",
       "      <th>id</th>\n",
       "      <th>likes</th>\n",
       "      <th>replies</th>\n",
       "      <th>retweets</th>\n",
       "      <th>text</th>\n",
       "      <th>timestamp</th>\n",
       "      <th>url</th>\n",
       "      <th>user</th>\n",
       "    </tr>\n",
       "  </thead>\n",
       "  <tbody>\n",
       "    <tr>\n",
       "      <th>0</th>\n",
       "      <td>Equal Rights Advocacy and Activism</td>\n",
       "      <td>&lt;p class=\"TweetTextSize js-tweet-text tweet-te...</td>\n",
       "      <td>541742718041747456</td>\n",
       "      <td>1</td>\n",
       "      <td>0</td>\n",
       "      <td>1</td>\n",
       "      <td>America, why remain silent?\\n#PatriotAct illeg...</td>\n",
       "      <td>2014-12-07T23:55:03</td>\n",
       "      <td>/Cagsil/status/541742718041747456</td>\n",
       "      <td>Cagsil</td>\n",
       "    </tr>\n",
       "    <tr>\n",
       "      <th>1</th>\n",
       "      <td>FriendofTrees</td>\n",
       "      <td>&lt;p class=\"TweetTextSize js-tweet-text tweet-te...</td>\n",
       "      <td>541741700998508544</td>\n",
       "      <td>1</td>\n",
       "      <td>1</td>\n",
       "      <td>1</td>\n",
       "      <td>RT @gf_layne: @marcylauren / If a Republican s...</td>\n",
       "      <td>2014-12-07T23:51:01</td>\n",
       "      <td>/JamiaStarheart/status/541741700998508544</td>\n",
       "      <td>JamiaStarheart</td>\n",
       "    </tr>\n",
       "    <tr>\n",
       "      <th>2</th>\n",
       "      <td>Khalil AlHajal</td>\n",
       "      <td>&lt;p class=\"TweetTextSize js-tweet-text tweet-te...</td>\n",
       "      <td>541741167655002112</td>\n",
       "      <td>0</td>\n",
       "      <td>0</td>\n",
       "      <td>0</td>\n",
       "      <td>Supreme Court justice recites lyrics from #Emi...</td>\n",
       "      <td>2014-12-07T23:48:54</td>\n",
       "      <td>/detroitkhalil/status/541741167655002112</td>\n",
       "      <td>detroitkhalil</td>\n",
       "    </tr>\n",
       "    <tr>\n",
       "      <th>3</th>\n",
       "      <td>Cheyenne N. Chambers</td>\n",
       "      <td>&lt;p class=\"TweetTextSize js-tweet-text tweet-te...</td>\n",
       "      <td>541741078114619392</td>\n",
       "      <td>0</td>\n",
       "      <td>0</td>\n",
       "      <td>0</td>\n",
       "      <td>Pearl Harbor’s role in a historic Supreme Cour...</td>\n",
       "      <td>2014-12-07T23:48:32</td>\n",
       "      <td>/Operation1_9/status/541741078114619392</td>\n",
       "      <td>Operation1_9</td>\n",
       "    </tr>\n",
       "    <tr>\n",
       "      <th>4</th>\n",
       "      <td>Kyle Engdahl</td>\n",
       "      <td>&lt;p class=\"TweetTextSize js-tweet-text tweet-te...</td>\n",
       "      <td>541738932812001280</td>\n",
       "      <td>0</td>\n",
       "      <td>0</td>\n",
       "      <td>0</td>\n",
       "      <td>#SCOTUS to Hear Cases on License Plates and Me...</td>\n",
       "      <td>2014-12-07T23:40:01</td>\n",
       "      <td>/engdkyl/status/541738932812001280</td>\n",
       "      <td>engdkyl</td>\n",
       "    </tr>\n",
       "  </tbody>\n",
       "</table>\n",
       "</div>"
      ],
      "text/plain": [
       "                             fullname  \\\n",
       "0  Equal Rights Advocacy and Activism   \n",
       "1                       FriendofTrees   \n",
       "2                      Khalil AlHajal   \n",
       "3                Cheyenne N. Chambers   \n",
       "4                        Kyle Engdahl   \n",
       "\n",
       "                                                html                  id  \\\n",
       "0  <p class=\"TweetTextSize js-tweet-text tweet-te...  541742718041747456   \n",
       "1  <p class=\"TweetTextSize js-tweet-text tweet-te...  541741700998508544   \n",
       "2  <p class=\"TweetTextSize js-tweet-text tweet-te...  541741167655002112   \n",
       "3  <p class=\"TweetTextSize js-tweet-text tweet-te...  541741078114619392   \n",
       "4  <p class=\"TweetTextSize js-tweet-text tweet-te...  541738932812001280   \n",
       "\n",
       "   likes  replies  retweets  \\\n",
       "0      1        0         1   \n",
       "1      1        1         1   \n",
       "2      0        0         0   \n",
       "3      0        0         0   \n",
       "4      0        0         0   \n",
       "\n",
       "                                                text            timestamp  \\\n",
       "0  America, why remain silent?\\n#PatriotAct illeg...  2014-12-07T23:55:03   \n",
       "1  RT @gf_layne: @marcylauren / If a Republican s...  2014-12-07T23:51:01   \n",
       "2  Supreme Court justice recites lyrics from #Emi...  2014-12-07T23:48:54   \n",
       "3  Pearl Harbor’s role in a historic Supreme Cour...  2014-12-07T23:48:32   \n",
       "4  #SCOTUS to Hear Cases on License Plates and Me...  2014-12-07T23:40:01   \n",
       "\n",
       "                                         url            user  \n",
       "0          /Cagsil/status/541742718041747456          Cagsil  \n",
       "1  /JamiaStarheart/status/541741700998508544  JamiaStarheart  \n",
       "2   /detroitkhalil/status/541741167655002112   detroitkhalil  \n",
       "3    /Operation1_9/status/541741078114619392    Operation1_9  \n",
       "4         /engdkyl/status/541738932812001280         engdkyl  "
      ]
     },
     "execution_count": 5,
     "metadata": {},
     "output_type": "execute_result"
    }
   ],
   "source": [
    "df.head()"
   ]
  },
  {
   "cell_type": "code",
   "execution_count": 12,
   "metadata": {},
   "outputs": [
    {
     "data": {
      "text/plain": [
       "('2014-11-14T00:12:55', '2014-12-13T23:44:02')"
      ]
     },
     "execution_count": 12,
     "metadata": {},
     "output_type": "execute_result"
    }
   ],
   "source": [
    "df['timestamp'].min(), df['timestamp'].max()"
   ]
  },
  {
   "cell_type": "code",
   "execution_count": 9,
   "metadata": {},
   "outputs": [],
   "source": [
    "#compare old csv data\n",
    "oldcsv = pd.read_csv('/Users/shaomanlee/Documents/twitterscraper-master/data/test/scotus/scotus_tweets_2014-11-14.csv')"
   ]
  },
  {
   "cell_type": "code",
   "execution_count": 10,
   "metadata": {},
   "outputs": [
    {
     "data": {
      "text/plain": [
       "(9604, 10)"
      ]
     },
     "execution_count": 10,
     "metadata": {},
     "output_type": "execute_result"
    }
   ],
   "source": [
    "oldcsv.shape"
   ]
  },
  {
   "cell_type": "code",
   "execution_count": 11,
   "metadata": {},
   "outputs": [
    {
     "data": {
      "text/html": [
       "<div>\n",
       "<style scoped>\n",
       "    .dataframe tbody tr th:only-of-type {\n",
       "        vertical-align: middle;\n",
       "    }\n",
       "\n",
       "    .dataframe tbody tr th {\n",
       "        vertical-align: top;\n",
       "    }\n",
       "\n",
       "    .dataframe thead th {\n",
       "        text-align: right;\n",
       "    }\n",
       "</style>\n",
       "<table border=\"1\" class=\"dataframe\">\n",
       "  <thead>\n",
       "    <tr style=\"text-align: right;\">\n",
       "      <th></th>\n",
       "      <th>user</th>\n",
       "      <th>fullname</th>\n",
       "      <th>tweet-id</th>\n",
       "      <th>timestamp</th>\n",
       "      <th>url</th>\n",
       "      <th>likes</th>\n",
       "      <th>replies</th>\n",
       "      <th>retweets</th>\n",
       "      <th>text</th>\n",
       "      <th>html</th>\n",
       "    </tr>\n",
       "  </thead>\n",
       "  <tbody>\n",
       "    <tr>\n",
       "      <th>0</th>\n",
       "      <td>Cagsil</td>\n",
       "      <td>Equal Rights Advocacy and Activism</td>\n",
       "      <td>541742718041747456</td>\n",
       "      <td>2014-12-07 23:55:03</td>\n",
       "      <td>/Cagsil/status/541742718041747456</td>\n",
       "      <td>1</td>\n",
       "      <td>0</td>\n",
       "      <td>1</td>\n",
       "      <td>America, why remain silent?\\n#PatriotAct illeg...</td>\n",
       "      <td>&lt;p class=\"TweetTextSize js-tweet-text tweet-te...</td>\n",
       "    </tr>\n",
       "    <tr>\n",
       "      <th>1</th>\n",
       "      <td>JamiaStarheart</td>\n",
       "      <td>FriendofTrees</td>\n",
       "      <td>541741700998508544</td>\n",
       "      <td>2014-12-07 23:51:01</td>\n",
       "      <td>/JamiaStarheart/status/541741700998508544</td>\n",
       "      <td>1</td>\n",
       "      <td>1</td>\n",
       "      <td>1</td>\n",
       "      <td>RT @gf_layne: @marcylauren / If a Republican s...</td>\n",
       "      <td>&lt;p class=\"TweetTextSize js-tweet-text tweet-te...</td>\n",
       "    </tr>\n",
       "    <tr>\n",
       "      <th>2</th>\n",
       "      <td>detroitkhalil</td>\n",
       "      <td>Khalil AlHajal</td>\n",
       "      <td>541741167655002112</td>\n",
       "      <td>2014-12-07 23:48:54</td>\n",
       "      <td>/detroitkhalil/status/541741167655002112</td>\n",
       "      <td>0</td>\n",
       "      <td>0</td>\n",
       "      <td>0</td>\n",
       "      <td>Supreme Court justice recites lyrics from #Emi...</td>\n",
       "      <td>&lt;p class=\"TweetTextSize js-tweet-text tweet-te...</td>\n",
       "    </tr>\n",
       "    <tr>\n",
       "      <th>3</th>\n",
       "      <td>Operation1_9</td>\n",
       "      <td>Cheyenne N. Chambers</td>\n",
       "      <td>541741078114619392</td>\n",
       "      <td>2014-12-07 23:48:32</td>\n",
       "      <td>/Operation1_9/status/541741078114619392</td>\n",
       "      <td>0</td>\n",
       "      <td>0</td>\n",
       "      <td>0</td>\n",
       "      <td>Pearl Harbor’s role in a historic Supreme Cour...</td>\n",
       "      <td>&lt;p class=\"TweetTextSize js-tweet-text tweet-te...</td>\n",
       "    </tr>\n",
       "    <tr>\n",
       "      <th>4</th>\n",
       "      <td>engdkyl</td>\n",
       "      <td>Kyle Engdahl</td>\n",
       "      <td>541738932812001280</td>\n",
       "      <td>2014-12-07 23:40:01</td>\n",
       "      <td>/engdkyl/status/541738932812001280</td>\n",
       "      <td>0</td>\n",
       "      <td>0</td>\n",
       "      <td>0</td>\n",
       "      <td>#SCOTUS to Hear Cases on License Plates and Me...</td>\n",
       "      <td>&lt;p class=\"TweetTextSize js-tweet-text tweet-te...</td>\n",
       "    </tr>\n",
       "  </tbody>\n",
       "</table>\n",
       "</div>"
      ],
      "text/plain": [
       "             user                            fullname            tweet-id  \\\n",
       "0          Cagsil  Equal Rights Advocacy and Activism  541742718041747456   \n",
       "1  JamiaStarheart                       FriendofTrees  541741700998508544   \n",
       "2   detroitkhalil                      Khalil AlHajal  541741167655002112   \n",
       "3    Operation1_9                Cheyenne N. Chambers  541741078114619392   \n",
       "4         engdkyl                        Kyle Engdahl  541738932812001280   \n",
       "\n",
       "             timestamp                                        url  likes  \\\n",
       "0  2014-12-07 23:55:03          /Cagsil/status/541742718041747456      1   \n",
       "1  2014-12-07 23:51:01  /JamiaStarheart/status/541741700998508544      1   \n",
       "2  2014-12-07 23:48:54   /detroitkhalil/status/541741167655002112      0   \n",
       "3  2014-12-07 23:48:32    /Operation1_9/status/541741078114619392      0   \n",
       "4  2014-12-07 23:40:01         /engdkyl/status/541738932812001280      0   \n",
       "\n",
       "   replies  retweets                                               text  \\\n",
       "0        0         1  America, why remain silent?\\n#PatriotAct illeg...   \n",
       "1        1         1  RT @gf_layne: @marcylauren / If a Republican s...   \n",
       "2        0         0  Supreme Court justice recites lyrics from #Emi...   \n",
       "3        0         0  Pearl Harbor’s role in a historic Supreme Cour...   \n",
       "4        0         0  #SCOTUS to Hear Cases on License Plates and Me...   \n",
       "\n",
       "                                                html  \n",
       "0  <p class=\"TweetTextSize js-tweet-text tweet-te...  \n",
       "1  <p class=\"TweetTextSize js-tweet-text tweet-te...  \n",
       "2  <p class=\"TweetTextSize js-tweet-text tweet-te...  \n",
       "3  <p class=\"TweetTextSize js-tweet-text tweet-te...  \n",
       "4  <p class=\"TweetTextSize js-tweet-text tweet-te...  "
      ]
     },
     "execution_count": 11,
     "metadata": {},
     "output_type": "execute_result"
    }
   ],
   "source": [
    "oldcsv.head()"
   ]
  },
  {
   "cell_type": "code",
   "execution_count": 13,
   "metadata": {},
   "outputs": [
    {
     "data": {
      "text/plain": [
       "('2014-11-14 00:12:55', '2015-01-05 23:27:26')"
      ]
     },
     "execution_count": 13,
     "metadata": {},
     "output_type": "execute_result"
    }
   ],
   "source": [
    "oldcsv['timestamp'].min(), oldcsv['timestamp'].max()"
   ]
  },
  {
   "cell_type": "code",
   "execution_count": null,
   "metadata": {},
   "outputs": [],
   "source": []
  }
 ],
 "metadata": {
  "kernelspec": {
   "display_name": "Python 3",
   "language": "python",
   "name": "python3"
  },
  "language_info": {
   "codemirror_mode": {
    "name": "ipython",
    "version": 3
   },
   "file_extension": ".py",
   "mimetype": "text/x-python",
   "name": "python",
   "nbconvert_exporter": "python",
   "pygments_lexer": "ipython3",
   "version": "3.6.4"
  }
 },
 "nbformat": 4,
 "nbformat_minor": 2
}
