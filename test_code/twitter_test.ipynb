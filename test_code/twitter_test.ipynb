{
 "cells": [
  {
   "cell_type": "markdown",
   "metadata": {},
   "source": [
    "Extract tweets text from the cvs file:"
   ]
  },
  {
   "cell_type": "code",
   "execution_count": null,
   "metadata": {},
   "outputs": [],
   "source": [
    "import csv\n",
    "import pandas\n",
    "import re\n",
    "\n",
    "with open(\"scotus_tweets_2014-11-14.csv\",\"r\", encoding=\"utf8\") as f:\n",
    "    data=pandas.read_csv(f)\n",
    "    for line in data.text:\n",
    "        if 'scotus' or 'SCOTUS' or 'Scotus' in line:\n",
    "            if '\\n' in line:\n",
    "                line=line.replace('\\n',' ')\n",
    "            line=re.sub(r'http\\S+', '', line)\n",
    "            with open('scotus_tweets_2014-11-14_text_2.txt','a',encoding=\"utf8\") as the_file:\n",
    "                 the_file.write(line+'\\n')\n",
    "the_file.close()\n",
    "f.close()            "
   ]
  },
  {
   "cell_type": "markdown",
   "metadata": {},
   "source": [
    "Counting the postive, negative and nuetral tweets, and save them to separated files:"
   ]
  },
  {
   "cell_type": "code",
   "execution_count": 2,
   "metadata": {},
   "outputs": [
    {
     "name": "stdout",
     "output_type": "stream",
     "text": [
      "Positive tweets = 39.93753253513795% via 9605 samples\n",
      "Negative tweets = 24.74752732951588% via 9605 samples\n",
      "Nuetral  tweets = 35.31494013534618% via 9605 samples\n"
     ]
    }
   ],
   "source": [
    "import csv\n",
    "import pandas\n",
    "from vaderSentiment.vaderSentiment import SentimentIntensityAnalyzer\n",
    "\n",
    "analyzer = SentimentIntensityAnalyzer()\n",
    "\n",
    "pos_count = 0\n",
    "nue_count=0\n",
    "neg_count=0\n",
    "total_line=0\n",
    "threshold = 0.0\n",
    "\n",
    "with open(\"scotus_tweets_2014-11-14_text_2.txt\",\"r\", encoding=\"utf8\") as f:\n",
    "    for line in f.read().split('\\n'):\n",
    "        vs = analyzer.polarity_scores(line)\n",
    "        if vs['compound'] > 0:\n",
    "            pos_count += 1\n",
    "            with open('positivefile.txt', 'a',encoding=\"utf8\") as pos_file:\n",
    "                 pos_file.write(line+'\\n') \n",
    "        if vs['compound'] == 0:\n",
    "            nue_count += 1\n",
    "            with open('neutralfile.txt','a',encoding=\"utf8\") as neu_file:\n",
    "                 neu_file.write(line+'\\n')\n",
    "        if vs['compound']<0:\n",
    "            neg_count += 1\n",
    "            with open('negativefile.txt','a',encoding=\"utf8\") as neg_file:\n",
    "                 neg_file.write(line+'\\n')                     \n",
    "        total_line +=1\n",
    "            \n",
    "print(\"Positive tweets = {}% via {} samples\".format(pos_count/total_line*100.0, total_line))\n",
    "print(\"Negative tweets = {}% via {} samples\".format(neg_count/total_line*100.0, total_line))\n",
    "print(\"Nuetral  tweets = {}% via {} samples\".format(nue_count/total_line*100.0, total_line))"
   ]
  }
 ],
 "metadata": {
  "kernelspec": {
   "display_name": "Python 3",
   "language": "python",
   "name": "python3"
  },
  "language_info": {
   "codemirror_mode": {
    "name": "ipython",
    "version": 3
   },
   "file_extension": ".py",
   "mimetype": "text/x-python",
   "name": "python",
   "nbconvert_exporter": "python",
   "pygments_lexer": "ipython3",
   "version": "3.7.1"
  }
 },
 "nbformat": 4,
 "nbformat_minor": 2
}
