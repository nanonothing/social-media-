{
 "cells": [
  {
   "cell_type": "code",
   "execution_count": 5,
   "metadata": {},
   "outputs": [],
   "source": [
    "import csv\n",
    "import pandas\n",
    "\n",
    "with open(\"scotus_tweets_2014-11-14.csv\",\"r\", encoding=\"utf8\") as f:\n",
    "    data=pandas.read_csv(f)\n",
    "    for line in data.text:\n",
    "        if '\\n' in line:\n",
    "            line=line.replace('\\n',' ')\n",
    "        with open('scotus_tweets_2014-11-14_text.txt','a',encoding=\"utf8\") as the_file:\n",
    "                the_file.write(line+'\\n')\n",
    "f.close()            "
   ]
  },
  {
   "cell_type": "code",
   "execution_count": 7,
   "metadata": {},
   "outputs": [
    {
     "name": "stdout",
     "output_type": "stream",
     "text": [
      "Positive accuracy = 39.93753253513795% via 9605 samples\n",
      "Negative accuracy = 24.7371160853722% via 9605 samples\n",
      "Nue=35.32535137948985% via 9605 samples\n"
     ]
    }
   ],
   "source": [
    "import csv\n",
    "import pandas\n",
    "from vaderSentiment.vaderSentiment import SentimentIntensityAnalyzer\n",
    "\n",
    "analyzer = SentimentIntensityAnalyzer()\n",
    "\n",
    "pos_count = 0\n",
    "pos_correct = 0\n",
    "pos_nue=0\n",
    "threshold = 0.0\n",
    "\n",
    "with open(\"scotus_tweets_2014-11-14_text.txt\",\"r\", encoding=\"utf8\") as f:\n",
    "    for line in f.read().split('\\n'):\n",
    "        vs = analyzer.polarity_scores(line)\n",
    "        if vs['compound'] > 0:\n",
    "            pos_correct += 1\n",
    "            with open('positivefile.txt', 'a',encoding=\"utf8\") as the_file:\n",
    "                 the_file.write(line+'\\n') \n",
    "        if vs['compound'] == 0:\n",
    "            pos_nue += 1\n",
    "        pos_count +=1\n",
    "            \n",
    "          \n",
    "             \n",
    "\n",
    "\n",
    "neg_count = 0\n",
    "neg_correct = 0\n",
    "\n",
    "with open(\"scotus_tweets_2014-11-14_text.txt\",\"r\", encoding=\"utf8\") as f:\n",
    "    for line in f.read().split('\\n'):\n",
    "        vs = analyzer.polarity_scores(line)\n",
    "        if  vs['compound'] <0:\n",
    "            neg_correct += 1\n",
    "        neg_count +=1\n",
    "             \n",
    "        \n",
    "\n",
    "print(\"Positive accuracy = {}% via {} samples\".format(pos_correct/pos_count*100.0, pos_count))\n",
    "print(\"Negative accuracy = {}% via {} samples\".format(neg_correct/neg_count*100.0, neg_count))\n",
    "print(\"Nue={}% via {} samples\".format(pos_nue/pos_count*100.0, pos_count))"
   ]
  },
  {
   "cell_type": "code",
   "execution_count": null,
   "metadata": {},
   "outputs": [],
   "source": [
    "from vaderSentiment.vaderSentiment import SentimentIntensityAnalyzer\n",
    "\n",
    "import time\n",
    "analyzer = SentimentIntensityAnalyzer()\n",
    "\n",
    "pos_count = 0\n",
    "pos_correct = 0\n",
    "\n",
    "with open(\"positive.txt\",\"r\") as f:\n",
    "    for line in f.read().split('\\n'):\n",
    "        vs = analyzer.polarity_scores(line)\n",
    "        if not vs['neg'] > 0.1:\n",
    "            if vs['pos']-vs['neg'] > 0:\n",
    "                pos_correct += 1\n",
    "            pos_count +=1\n",
    "\n",
    "\n",
    "neg_count = 0\n",
    "neg_correct = 0\n",
    "\n",
    "with open(\"negative.txt\",\"r\") as f:\n",
    "    for line in f.read().split('\\n'):\n",
    "        vs = analyzer.polarity_scores(line)\n",
    "        if not vs['pos'] > 0.1:\n",
    "            if vs['pos']-vs['neg'] <= 0:\n",
    "                neg_correct += 1\n",
    "            neg_count +=1\n",
    "\n",
    "print(\"Positive accuracy = {}% via {} samples\".format(pos_correct/pos_count*100.0, pos_count))\n",
    "print(\"Negative accuracy = {}% via {} samples\".format(neg_correct/neg_count*100.0, neg_count))"
   ]
  }
 ],
 "metadata": {
  "kernelspec": {
   "display_name": "Python 3",
   "language": "python",
   "name": "python3"
  },
  "language_info": {
   "codemirror_mode": {
    "name": "ipython",
    "version": 3
   },
   "file_extension": ".py",
   "mimetype": "text/x-python",
   "name": "python",
   "nbconvert_exporter": "python",
   "pygments_lexer": "ipython3",
   "version": "3.7.1"
  }
 },
 "nbformat": 4,
 "nbformat_minor": 2
}
